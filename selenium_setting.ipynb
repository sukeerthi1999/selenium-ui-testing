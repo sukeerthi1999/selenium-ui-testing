{
 "cells": [
  {
   "cell_type": "code",
   "execution_count": 2,
   "id": "ceb01edb-7839-45e7-ba04-ce2323eeea35",
   "metadata": {},
   "outputs": [],
   "source": [
    "# Importing necessary libraries\n",
    "import time\n",
    "import os\n",
    "from selenium import webdriver\n",
    "from selenium.webdriver.firefox.service import Service\n",
    "from selenium.webdriver.firefox.options import Options\n",
    "import cv2\n",
    "import numpy as np\n"
   ]
  },
  {
   "cell_type": "code",
   "execution_count": null,
   "id": "01ab9330-6834-4c54-99ed-9ecd142a14eb",
   "metadata": {},
   "outputs": [],
   "source": []
  },
  {
   "cell_type": "code",
   "execution_count": 18,
   "id": "a06338ae-2d61-4e38-9058-bfafa3a001ee",
   "metadata": {},
   "outputs": [],
   "source": [
    "from selenium import webdriver\n",
    "from selenium.webdriver.firefox.service import Service\n",
    "from selenium.webdriver.firefox.options import Options\n",
    "\n",
    "def setup_selenium_with_firefox():\n",
    "    # Paths to geckodriver and Firefox binary\n",
    "    geckodriver_path = \"C:/Program Files/geckodriver/geckodriver.exe\"\n",
    "    firefox_binary_path = \"C:/Program Files/Mozilla Firefox/firefox.exe\"\n",
    "\n",
    "    # Configure the service and options\n",
    "    service = Service(executable_path=geckodriver_path)\n",
    "    options = Options()\n",
    "    options.binary_location = firefox_binary_path\n",
    "\n",
    "    # Create a Firefox WebDriver instance\n",
    "    driver = webdriver.Firefox(service=service, options=options)\n",
    "    return driver\n",
    "\n",
    "# Test the setup\n",
    "driver = setup_selenium_with_firefox()\n",
    "driver.get(\"https://en.wikipedia.org/wiki/History_of_the_United_States\")\n"
   ]
  },
  {
   "cell_type": "code",
   "execution_count": null,
   "id": "0fcea75a-bb8d-40f4-95ea-2b907c583c4c",
   "metadata": {},
   "outputs": [],
   "source": [
    "pip uninstall keras\n"
   ]
  },
  {
   "cell_type": "code",
   "execution_count": null,
   "id": "0c98f0c2-0fab-4dba-b941-8c9bf23cd356",
   "metadata": {},
   "outputs": [],
   "source": []
  }
 ],
 "metadata": {
  "kernelspec": {
   "display_name": "Python 3 (ipykernel)",
   "language": "python",
   "name": "python3"
  },
  "language_info": {
   "codemirror_mode": {
    "name": "ipython",
    "version": 3
   },
   "file_extension": ".py",
   "mimetype": "text/x-python",
   "name": "python",
   "nbconvert_exporter": "python",
   "pygments_lexer": "ipython3",
   "version": "3.11.10"
  }
 },
 "nbformat": 4,
 "nbformat_minor": 5
}
